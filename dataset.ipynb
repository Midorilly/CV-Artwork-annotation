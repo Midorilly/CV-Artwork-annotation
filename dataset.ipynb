{
 "cells": [
  {
   "cell_type": "code",
   "execution_count": null,
   "metadata": {
    "colab": {
     "base_uri": "https://localhost:8080/"
    },
    "executionInfo": {
     "elapsed": 8408,
     "status": "ok",
     "timestamp": 1692806590016,
     "user": {
      "displayName": "Midori Cosplay",
      "userId": "09751038900310278209"
     },
     "user_tz": -120
    },
    "id": "uU5KANVDr7Le",
    "outputId": "552e8e22-87c8-4175-ca8b-d922cd9bc20f",
    "pycharm": {
     "name": "#%%\n"
    }
   },
   "outputs": [
    {
     "output_type": "stream",
     "name": "stdout",
     "text": [
      "Drive already mounted at /content/drive; to attempt to forcibly remount, call drive.mount(\"/content/drive\", force_remount=True).\n"
     ]
    }
   ],
   "source": [
    "#from google.colab import drive\n",
    "#drive.mount('/content/drive')"
   ]
  },
  {
   "cell_type": "code",
   "execution_count": null,
   "metadata": {
    "colab": {
     "base_uri": "https://localhost:8080/"
    },
    "executionInfo": {
     "elapsed": 272,
     "status": "ok",
     "timestamp": 1692806595262,
     "user": {
      "displayName": "Midori Cosplay",
      "userId": "09751038900310278209"
     },
     "user_tz": -120
    },
    "id": "suRdaBSztjSn",
    "outputId": "44c195c7-06b4-4adb-9179-88f2fb0e12f4",
    "pycharm": {
     "name": "#%%\n"
    }
   },
   "outputs": [
    {
     "output_type": "stream",
     "name": "stdout",
     "text": [
      "/content/drive/MyDrive/cv\n"
     ]
    }
   ],
   "source": [
    "#%cd /content/drive/MyDrive/cv"
   ]
  },
  {
   "cell_type": "code",
   "execution_count": null,
   "metadata": {
    "id": "eGYAbx1TtFam",
    "pycharm": {
     "name": "#%%\n"
    }
   },
   "outputs": [],
   "source": [
    "#!pip install split-folders\n",
    "#!pip install pytest-shutil"
   ]
  },
  {
   "cell_type": "code",
   "execution_count": 1,
   "metadata": {
    "id": "yxPFlPj1tqn0",
    "pycharm": {
     "name": "#%%\n"
    }
   },
   "outputs": [],
   "source": [
    "import pandas as pd\n",
    "import html\n",
    "import numpy as np\n",
    "import string\n",
    "import re"
   ]
  },
  {
   "cell_type": "code",
   "execution_count": null,
   "metadata": {
    "id": "Ms_7deYXlUW_",
    "pycharm": {
     "name": "#%%\n"
    }
   },
   "outputs": [],
   "source": [
    "artwork_df = pd.read_csv('data/raw/artwork.csv')\n",
    "\n",
    "# decode html encoding, drops rows without any tag associated\n",
    "for ind in artwork_df.index:\n",
    "  if artwork_df['tag'][ind] == '[]':\n",
    "    artwork_df = artwork_df.drop([ind], axis=0)\n",
    "  else:\n",
    "    artwork_df['artwork'][ind] = html.unescape(artwork_df['artwork'][ind])\n",
    "    artwork_df['artist'][ind] = html.unescape(artwork_df['artist'][ind])\n",
    "    artwork_df['serie'][ind] = html.unescape(artwork_df['serie'][ind])\n",
    "    artwork_df['period'][ind] = html.unescape(artwork_df['period'][ind])\n",
    "    artwork_df['gallery'][ind] = html.unescape(artwork_df['gallery'][ind])\n",
    "\n",
    "# removes \"\n",
    "for col in artwork_df:\n",
    "  if col != 'tag':\n",
    "    artwork_df[col] = artwork_df[col].str.replace('\"','')\n",
    "\n",
    "artwork_df.to_csv('data/processed/artwork.csv')"
   ]
  },
  {
   "cell_type": "code",
   "execution_count": null,
   "metadata": {
    "id": "rdICf0juyfWN",
    "pycharm": {
     "name": "#%%\n"
    }
   },
   "outputs": [],
   "source": [
    "sampling_df = artwork_df.groupby('style', group_keys=False).apply(lambda x: x.sample(frac=0.20))\n",
    "sampling_df.to_csv('data/processed/artwork_sampled.csv')"
   ]
  },
  {
   "cell_type": "code",
   "execution_count": 2,
   "metadata": {
    "colab": {
     "base_uri": "https://localhost:8080/"
    },
    "executionInfo": {
     "elapsed": 9158,
     "status": "ok",
     "timestamp": 1692606520834,
     "user": {
      "displayName": "Midori Cosplay",
      "userId": "09751038900310278209"
     },
     "user_tz": -120
    },
    "id": "pxD4oPODsetx",
    "outputId": "16e7cbdf-2b13-4c1e-cfac-699f22d0007c",
    "pycharm": {
     "name": "#%%\n"
    }
   },
   "outputs": [
    {
     "name": "stdout",
     "output_type": "stream",
     "text": [
      "5151 tags with less than 200 occurrences, 274 remaining\n"
     ]
    }
   ],
   "source": [
    "# filters tags\n",
    "tag_df = pd.read_csv('data/raw/tag_count.csv')\n",
    "\n",
    "th = 200 # minimum occurrences\n",
    "count = 0\n",
    "removed = 0\n",
    "tag_df['t.name'] = tag_df['t.name'].str.replace('\"', '')\n",
    "tag_dictionary = {}\n",
    "for ind in tag_df.index:\n",
    "  if tag_df['count'][ind] >= th :\n",
    "    tag_dictionary[tag_df['t.name'][ind]] = tag_df['count'][ind]\n",
    "  else :\n",
    "    count += tag_df['count'][ind]\n",
    "    tag_dictionary.update({'Other' : count})\n",
    "    tag_df = tag_df.drop([ind], axis=0)\n",
    "    removed = removed+1\n",
    "\n",
    "other = ['Other', count]\n",
    "tag_df.loc[len(tag_df.index)] = other\n",
    "tag_df = tag_df.sort_values('count', ascending=False)\n",
    "tag_df.to_csv('data/processed/tag_filtered.csv')\n",
    "print('{} tags with less than {} occurrences, {} remaining'.format(removed, th, len(tag_dictionary)))"
   ]
  },
  {
   "cell_type": "code",
   "execution_count": 5,
   "outputs": [],
   "source": [
    "def tag_substitution(input, output):\n",
    "    artwork_df = pd.read_csv(input)\n",
    "\n",
    "    # replace tags with less than 200 occurrences with 'Other'\n",
    "    for ind in artwork_df.index:\n",
    "      tags = re.sub('[\\[\\]]', '', artwork_df['tag'][ind])\n",
    "      tag_tokens = tags.split(', \"')\n",
    "      clean_tokens = []\n",
    "      for t in tag_tokens:\n",
    "        clean_tokens.append(re.sub('[\"]', '', t))\n",
    "\n",
    "      for t in clean_tokens:\n",
    "        if t not in tag_dictionary:\n",
    "          artwork_df['tag'].loc[ind] = re.sub('\"*'+t+'\"*', 'Other', artwork_df['tag'][ind])\n",
    "\n",
    "    artwork_df.to_csv(output)"
   ],
   "metadata": {
    "collapsed": false,
    "pycharm": {
     "name": "#%%\n"
    }
   }
  },
  {
   "cell_type": "code",
   "execution_count": null,
   "outputs": [],
   "source": [
    "tag_substitution(r'data/processed/artwork_sampled.csv', r'data/processed/artwork_filtered.csv')"
   ],
   "metadata": {
    "collapsed": false,
    "pycharm": {
     "name": "#%%\n"
    }
   }
  },
  {
   "cell_type": "code",
   "execution_count": null,
   "metadata": {
    "id": "2Xi0Pky0WWqD",
    "pycharm": {
     "name": "#%%\n"
    }
   },
   "outputs": [],
   "source": [
    "# drops artworks in raw/artwork_captions.csv if not in processed/artwork_filtered.csv, else decodes html encoding\n",
    "caption_df = pd.read_csv('data/raw/artwork_captions.csv')\n",
    "artwork_df = pd.read_csv('data/processed/artwork_filtered.csv')\n",
    "artwork_list = artwork_df['art_file'].values.tolist()\n",
    "\n",
    "for ind in caption_df.index:\n",
    "  if caption_df['image'][ind] not in artwork_list:\n",
    "    caption_df = caption_df.drop([ind], axis=0)\n",
    "  else:\n",
    "    caption_df['name'][ind] = html.unescape(caption_df['name'][ind])\n",
    "\n",
    "caption_df = caption_df.sort_values('image', ascending=True)\n",
    "caption_df.to_csv('data/processed/artwork_caption.csv')\n",
    "\n",
    "# drops artworks in processed/artwork_filtered.csv if not in processed/artwork_caption.csv\n",
    "caption_list = caption_df['image'].values.tolist()\n",
    "for ind in artwork_df.index:\n",
    "  if artwork_df['art_file'][ind] not in caption_list:\n",
    "    artwork_df = artwork_df.drop([ind], axis=0)\n",
    "\n",
    "artwork_df = artwork_df.sort_values('art_file', ascending=True)\n",
    "artwork_df.to_csv('data/processed/artwork_filtered.csv')"
   ]
  },
  {
   "cell_type": "code",
   "execution_count": null,
   "metadata": {
    "id": "gK3C_pEWqRP3",
    "pycharm": {
     "name": "#%%\n"
    }
   },
   "outputs": [],
   "source": [
    "# generates an artwork description\n",
    "def generate_description(df, ind):\n",
    "  desc = {\n",
    "    'artwork' : df['artwork'][ind],\n",
    "    #'artist' : df['artist'][ind],\n",
    "    'style' : df['style'][ind],\n",
    "    'genre' : df['genre'][ind],\n",
    "    'media' : df['media'][ind],\n",
    "    'emotion' : df['emotion'][ind]\n",
    "    }\n",
    "\n",
    "  d = 'The artwork is entitled [{}]'.format(desc['artwork'])\n",
    "  if desc['style'] != '[]':\n",
    "    d = d + ', painted following the {} art style'.format(desc['style'])\n",
    "  if desc['genre'] != '[]':\n",
    "    d = d + ', belongs to the {} genre'.format(desc['genre'])\n",
    "  if desc['media'] != '[]':\n",
    "    d = d + ', made of {}'.format(desc['media'])\n",
    "  if desc['emotion'] != '[]':\n",
    "    d = d + ', elicits {} emotion'.format(desc['emotion'])\n",
    "  d = d + '.'\n",
    "\n",
    "  return d"
   ]
  },
  {
   "cell_type": "code",
   "execution_count": null,
   "metadata": {
    "id": "QFM9GgOCqzc0",
    "pycharm": {
     "name": "#%%\n"
    }
   },
   "outputs": [],
   "source": [
    "# merge description and caption\n",
    "caption_df = pd.read_csv('data/processed/artwork_caption.csv')\n",
    "\n",
    "#description_df = pd.read_csv('data/processed/artwork_description.csv')\n",
    "artwork_df = pd.read_csv('data/processed/artwork_filtered.csv')\n",
    "\n",
    "info_frame = {'image': [], 'artwork': [], 'caption' : [], 'info' : [], 'tag' : []}\n",
    "info_df = pd.DataFrame(data=info_frame)\n",
    "\n",
    "pattern = r'\"?\\[?\\'?(.*?)\\'?(,)*\\]?\"?'\n",
    "replacement = r'\\1\\2'\n",
    "\n",
    "#artwork_list = artwork_df['art_file'].values.tolist()\n",
    "for ind in artwork_df.index:\n",
    "  if artwork_df['art_file'][ind] == caption_df['image'][ind]:\n",
    "    description = generate_description(artwork_df, ind)\n",
    "    tags = re.sub(pattern, replacement, artwork_df['tag'][ind])\n",
    "    info = [artwork_df['art_file'][ind], # image\n",
    "            artwork_df['artwork'][ind], # artwork\n",
    "            caption_df['caption'][ind], # caption\n",
    "            description, # description\n",
    "            tags] #tag\n",
    "    info_df.loc[len(info_df.index)] = info\n",
    "\n",
    "info_df.to_csv('data/processed/artwork_info.csv')"
   ]
  },
  {
   "cell_type": "code",
   "execution_count": null,
   "metadata": {
    "id": "4QkfScTJsfCf",
    "pycharm": {
     "name": "#%%\n"
    }
   },
   "outputs": [],
   "source": [
    "import os\n",
    "import pandas as pd\n",
    "from datetime import datetime\n",
    "import shutil\n",
    "import pathlib\n",
    "\n",
    "def copy_artworks(info_path, art_path, target_path):\n",
    "    df = pd.read_csv(info_path)\n",
    "    artworks = df['image'].values.tolist()\n",
    "    files = pathlib.Path(art_path)\n",
    "    print(\"[LOG] {} fetching artwork dataset...\".format(datetime.now()))\n",
    "    art = []\n",
    "    for f in files.glob('*.jpg'):\n",
    "      try:\n",
    "        art.append(os.path.basename(f))\n",
    "      except:\n",
    "        print('An error occurred with {}'.format(f))\n",
    "\n",
    "    print(\"[LOG] {} copying artworks to {}...\".format(datetime.now(), target_path))\n",
    "    copied = 0\n",
    "    for f in art:\n",
    "      if f in artworks and not os.path.isfile(os.path.join(target_path, f)):\n",
    "          shutil.copy2(os.path.join(art_path, f), target_path)\n",
    "          copied = copied+1\n",
    "    print(\"[LOG] {} {} artworks copied to {}!\".format(datetime.now(), copied, target_path))\n",
    "\n",
    "# splits processed/artwork_info.csv into training, test and validation .csv, according to their respective files\n",
    "def split_frame(frame, set):\n",
    "    df = pd.read_csv(r\"data/processed/artwork_info.csv\")\n",
    "    folders = os.listdir(set)\n",
    "    for fold in folders:\n",
    "        print(\"[LOG] {} fetching {} data...\".format(datetime.now(), fold))\n",
    "        set_frame = {'image': [], 'artwork': [], 'caption' : [], 'description' : [], 'tag' : []}\n",
    "        set_df = pd.DataFrame(data=set_frame)\n",
    "        files = os.scandir(os.path.join(set, f'{fold}/images-resized/'))\n",
    "        for f in files:\n",
    "            ind = df[df['image'] == f.name].index.values[0]\n",
    "            info = [df['image'][ind], # image\n",
    "                    df['artwork'][ind], # artwork\n",
    "                    df['caption'][ind], # caption\n",
    "                    df['info'][ind], # description\n",
    "                    df['tag'][ind]] #tag\n",
    "            set_df.loc[len(set_df.index)] = info\n",
    "\n",
    "        set_df = set_df.sort_values('image', ascending=True)\n",
    "        set_df.to_csv(os.path.join(set, f'{fold}/{fold}.csv'))\n",
    "        print(\"[LOG] {} {} data successfully fetched!\".format(datetime.now(), fold))"
   ]
  },
  {
   "cell_type": "code",
   "execution_count": null,
   "metadata": {
    "id": "lnQk-wZ8sjHs",
    "executionInfo": {
     "status": "error",
     "timestamp": 1692807876677,
     "user_tz": -120,
     "elapsed": 6225,
     "user": {
      "displayName": "Midori Cosplay",
      "userId": "09751038900310278209"
     }
    },
    "outputId": "47da9f7e-68bd-423b-9e8e-df40d64683ab",
    "colab": {
     "base_uri": "https://localhost:8080/",
     "height": 338
    },
    "pycharm": {
     "name": "#%%\n",
     "is_executing": true
    }
   },
   "outputs": [],
   "source": [
    "copy_artworks(info_path=r'data/processed/artwork_info.csv', art_path=r'raw-images/images-resized', target_path=r'raw-images/images-filtered')"
   ]
  },
  {
   "cell_type": "code",
   "execution_count": null,
   "metadata": {
    "id": "VS7mYV2Jbbq3",
    "pycharm": {
     "name": "#%%\n"
    }
   },
   "outputs": [],
   "source": [
    "import splitfolders\n",
    "\n",
    "splitfolders.ratio(input=r'raw-images/images-filtered', output='dataset', seed=42, ratio=(.8, 0.0, 0.2))\n",
    "split_frame(frame=r'data/processed/artwork_info.csv', set=r'dataset/')"
   ]
  }
 ],
 "metadata": {
  "accelerator": "GPU",
  "colab": {
   "provenance": [],
   "mount_file_id": "1pnRVl5yiJ5ZR4_2sAu4z0DVleWcMcvcx",
   "authorship_tag": "ABX9TyN/1tyaORSFOtZ5PKM2GiOX"
  },
  "kernelspec": {
   "display_name": "Python 3",
   "name": "python3"
  },
  "language_info": {
   "name": "python"
  }
 },
 "nbformat": 4,
 "nbformat_minor": 0
}